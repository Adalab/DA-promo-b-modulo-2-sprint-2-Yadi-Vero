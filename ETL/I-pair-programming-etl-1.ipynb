{
 "cells": [
  {
   "cell_type": "markdown",
   "metadata": {},
   "source": [
    "Requisitos de este ejercicio de pair programming:\n",
    "- Deberéis meter toda la información climática en un único dataframe.\n",
    "- Deberéis hacer la llamada a la API de una sola vez. Es decir, tendréis que iterar por la lista de países y sacar la información del clima para cada uno de ellos.\n",
    "- Al meter toda la información en un único dataframe tendremos que crear una columna que corresponda con el nombre del país.\n",
    "- Guardar el dataframe obtenido para usarlo en la siguiente sesión de pair programming."
   ]
  },
  {
   "cell_type": "markdown",
   "metadata": {},
   "source": [
    "💡 Pistas 💡:\n",
    "- Crearos un diccionario donde:\n",
    "  - Las keys sean los nombres de los paises\n",
    "  - Los values sean las coordenadas de los paises en formato lista.\n",
    "- Iterar por el diccionario. Dentro del for haremos la llamada a la API como hemos aprendido en las clases invertidas Recordamos que para iterar por el diccionario tenemos que seguir la siguiente estructura:\n",
    "  \n",
    "                  for key, value in diccionario.items():\n",
    "                    print(key, value)\n",
    "                    \n",
    "- Crearnos un dataframe vacío donde iremos concatenando los datos obtenidos de la API cada país.\n",
    "- Guardad el csv ya que mañana lo necesitaremos para hacer el ejercicio de pair programming."
   ]
  },
  {
   "cell_type": "code",
   "execution_count": 1,
   "metadata": {},
   "outputs": [],
   "source": [
    "from IPython.core.interactiveshell import InteractiveShell # Nos permite mostar más de una salida por celda\n",
    "InteractiveShell.ast_node_interactivity = \"all\" # Nos permite mostar más de una salida por celda\n",
    "\n",
    "import requests\n",
    "import pandas as pd\n",
    "import numpy as np"
   ]
  },
  {
   "cell_type": "code",
   "execution_count": 2,
   "metadata": {},
   "outputs": [],
   "source": [
    "\n",
    "def paises(producto):\n",
    "\n",
    "    df_concat=pd.DataFrame()\n",
    "    dict={'USA':[39.783730,-100.445882],'Australia':[-24.77610,134.755], 'South Africa':[-28.8166236,24.991639],'New Zealand':[-41.5000831,172.8344077],'Papua New Guinea':[-5.6816069,144.2489081] }\n",
    "    \n",
    "    for k,v in dict.items():\n",
    "        \n",
    "        url = f'http://www.7timer.info/bin/api.pl?lon=-{v[1]}&lat={v[0]}&product={producto}&output=json'\n",
    "\n",
    "        response = requests.get(url)\n",
    "        df=pd.json_normalize(response.json()[\"dataseries\"])\n",
    "        df[\"latitud\"] = v[0]\n",
    "        df[\"longitud\"] = v[1]\n",
    "        df['paises']= k\n",
    "        df_concat=pd.concat([df_concat,df], axis=0, ignore_index=True)\n",
    "\n",
    "    return df_concat\n"
   ]
  },
  {
   "cell_type": "code",
   "execution_count": 3,
   "metadata": {},
   "outputs": [],
   "source": [
    "df_final=paises('meteo')\n"
   ]
  },
  {
   "cell_type": "code",
   "execution_count": 4,
   "metadata": {},
   "outputs": [],
   "source": [
    "df_final.to_csv(\"../ETL/datos/api.csv\")"
   ]
  }
 ],
 "metadata": {
  "kernelspec": {
   "display_name": "Python 3.10.4 64-bit",
   "language": "python",
   "name": "python3"
  },
  "language_info": {
   "codemirror_mode": {
    "name": "ipython",
    "version": 3
   },
   "file_extension": ".py",
   "mimetype": "text/x-python",
   "name": "python",
   "nbconvert_exporter": "python",
   "pygments_lexer": "ipython3",
   "version": "3.10.4"
  },
  "orig_nbformat": 4,
  "vscode": {
   "interpreter": {
    "hash": "916dbcbb3f70747c44a77c7bcd40155683ae19c65e1c03b4aa3499c5328201f1"
   }
  }
 },
 "nbformat": 4,
 "nbformat_minor": 2
}
