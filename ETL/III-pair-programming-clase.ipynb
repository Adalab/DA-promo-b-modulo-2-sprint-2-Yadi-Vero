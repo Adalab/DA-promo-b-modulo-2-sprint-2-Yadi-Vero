{
 "cells": [
  {
   "cell_type": "code",
   "execution_count": 37,
   "metadata": {},
   "outputs": [],
   "source": [
    "from IPython.core.interactiveshell import InteractiveShell # Nos permite mostar más de una salida por celda\n",
    "InteractiveShell.ast_node_interactivity = \"all\" # Nos permite mostar más de una salida por celda\n",
    "\n",
    "import requests\n",
    "import pandas as pd\n",
    "import numpy as np\n",
    "import ast\n",
    "pd.options.display.max_columns=None"
   ]
  },
  {
   "cell_type": "code",
   "execution_count": 38,
   "metadata": {},
   "outputs": [],
   "source": [
    "attack=pd.read_csv('../ETL/datos/attacks_limpieza_completa.csv', index_col=0)\n",
    "df=pd.read_csv('../ETL/datos/df_API_paises.csv', index_col=0)"
   ]
  },
  {
   "cell_type": "code",
   "execution_count": 39,
   "metadata": {},
   "outputs": [],
   "source": [
    "class Concat_Paises():\n",
    "    def __init__ (self,producto):\n",
    "        self.producto=producto\n",
    "        \n",
    "    def paises(self):\n",
    "\n",
    "        df_concat=pd.DataFrame()\n",
    "        dict={'USA':[39.783730,-100.445882],'Australia':[-24.77610,134.755], 'South Africa':[-28.8166236,24.991639],\\\n",
    "            'New Zealand':[-41.5000831,172.8344077],'Papua New Guinea':[-5.6816069,144.2489081] }\n",
    "            \n",
    "        for k,v in dict.items():\n",
    "                \n",
    "            url = f'http://www.7timer.info/bin/api.pl?lon=-{v[1]}&lat={v[0]}&product={self.producto}&output=json'\n",
    "\n",
    "            response = requests.get(url)\n",
    "            df=pd.json_normalize(response.json()[\"dataseries\"])\n",
    "            df[\"latitud\"] = v[0]\n",
    "            df[\"longitud\"] = v[1]\n",
    "            df['paises']= k\n",
    "            df_concat=pd.concat([df_concat,df], axis=0, ignore_index=True)\n",
    "\n",
    "        return df_concat"
   ]
  },
  {
   "cell_type": "code",
   "execution_count": 40,
   "metadata": {},
   "outputs": [],
   "source": [
    "class Limpiar_dfs():\n",
    "    \n",
    "    def __init__ (self,dataframe1,dataframe2):\n",
    "        self.dataframe1=dataframe1\n",
    "        self.dataframe2=dataframe2\n",
    "        #self.df_left=df_left\n",
    "        #self.df_rigth=df_rigth\n",
    "    \n",
    "    def limpiar_attack (self):\n",
    "        df_attack=self.dataframe1[(self.dataframe1[\"country\"]==\"usa\") | (self.dataframe1[\"country\"]==\"australia\")|\\\n",
    "            (self.dataframe1[\"country\"]==\"south africa\") | (self.dataframe1[\"country\"]==\"papua new guinea\")|\\\n",
    "            (self.dataframe1[\"country\"]==\"new zealand\")]\n",
    "        df_attack.rename(columns={'country':'id_paises'}, inplace=True)\n",
    "        df_final=df_attack.groupby('id_paises')['year','age','latitud','longitud','fatal_N'].agg(['mean'])\n",
    "        df_final=df_final.reset_index()\n",
    "        return df_final\n",
    "    \n",
    "    def limpieza_clima(self):\n",
    "        #Limpiamos la columna de rh_profile primero a series y luego a columnas en el bbucle for\n",
    "        self.dataframe2['rh_profile']=self.dataframe2['rh_profile'].apply(ast.literal_eval)\n",
    "        rh = self.dataframe2['rh_profile'].apply(pd.Series)\n",
    "\n",
    "        for i in range(len(rh.columns)):\n",
    "            rh_col0=rh[i].apply(pd.Series)\n",
    "            nombre=\"rh\"+ rh_col0[\"layer\"][115]\n",
    "            valores= list(rh_col0[\"rh\"])\n",
    "            self.dataframe2.insert(i, nombre, valores)\n",
    "        #Eliminamos la columna que ya no necesitamos\n",
    "        self.dataframe2=self.dataframe2.drop(['rh_profile'], axis=1)\n",
    "        \n",
    "        #Hacemos lo mismo para la columnas wind_profile\n",
    "        self.dataframe2['wind_profile']=self.dataframe2['wind_profile'].apply(ast.literal_eval)\n",
    "        wind = self.dataframe2['wind_profile'].apply(pd.Series)\n",
    "\n",
    "        for i in range(len(wind.columns)):\n",
    "            wind_col0=wind[i].apply(pd.Series)\n",
    "            nombre=\"wind_\"+ wind_col0[\"layer\"][1]\n",
    "            valores= list(wind_col0[\"direction\"])\n",
    "            self.dataframe2.insert(i, nombre, valores)\n",
    "            \n",
    "        self.dataframe2=self.dataframe2.drop(['wind_profile'], axis=1)\n",
    "        \n",
    "        df2=self.dataframe2.groupby('paises').agg(['mean'])\n",
    "        df2=df2.reset_index()\n",
    "        df2.rename(columns={'paises':'id_paises'}, inplace=True)\n",
    "        def minuscula(col):\n",
    "            try:\n",
    "                col=col.lower()\n",
    "                return col\n",
    "            except:\n",
    "                pass\n",
    "        df2[\"id_paises\"]=df2[\"id_paises\"].apply(minuscula)\n",
    "\n",
    "        return df2\n",
    "    \n",
    "    "
   ]
  },
  {
   "cell_type": "code",
   "execution_count": 45,
   "metadata": {},
   "outputs": [],
   "source": [
    "Limpieza=Limpiar_dfs(attack,df)\n"
   ]
  },
  {
   "cell_type": "code",
   "execution_count": 51,
   "metadata": {},
   "outputs": [],
   "source": [
    "df_attack=Limpieza.limpiar_attack #No funciona :("
   ]
  },
  {
   "cell_type": "code",
   "execution_count": 52,
   "metadata": {},
   "outputs": [],
   "source": [
    "df_clima=Limpieza.limpieza_clima"
   ]
  },
  {
   "cell_type": "code",
   "execution_count": 53,
   "metadata": {},
   "outputs": [
    {
     "data": {
      "text/plain": [
       "<bound method Limpiar_dfs.limpieza_clima of <__main__.Limpiar_dfs object at 0x7fd560304d00>>"
      ]
     },
     "execution_count": 53,
     "metadata": {},
     "output_type": "execute_result"
    }
   ],
   "source": [
    "df_clima"
   ]
  },
  {
   "cell_type": "code",
   "execution_count": 44,
   "metadata": {},
   "outputs": [],
   "source": [
    "def merge(self): #Esta función está persanda para hacer un left. Para que se tenga en cuenta\n",
    "    merge_final=pd.merge(left=self.df_left, right=self.df_rigth, how='left', left_on='id_paises', right_on='id_paises')\n",
    "    return merge_final"
   ]
  }
 ],
 "metadata": {
  "kernelspec": {
   "display_name": "Python 3.9.7 ('base')",
   "language": "python",
   "name": "python3"
  },
  "language_info": {
   "codemirror_mode": {
    "name": "ipython",
    "version": 3
   },
   "file_extension": ".py",
   "mimetype": "text/x-python",
   "name": "python",
   "nbconvert_exporter": "python",
   "pygments_lexer": "ipython3",
   "version": "3.9.7"
  },
  "orig_nbformat": 4,
  "vscode": {
   "interpreter": {
    "hash": "c077ba4c986d0c674841b1bde68a642c04a6e440695030e9d779c08f2cbfb9f4"
   }
  }
 },
 "nbformat": 4,
 "nbformat_minor": 2
}
