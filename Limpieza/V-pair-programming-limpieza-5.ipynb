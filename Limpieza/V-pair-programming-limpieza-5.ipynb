{
 "cells": [
  {
   "cell_type": "code",
   "execution_count": 1,
   "metadata": {},
   "outputs": [],
   "source": [
    "import pandas as pd\n",
    "import numpy as np\n",
    "import sidetable\n",
    "from sklearn.impute import SimpleImputer\n",
    "from sklearn.impute import KNNImputer\n",
    "from sklearn.experimental import enable_iterative_imputer\n",
    "from sklearn.impute import IterativeImputer\n"
   ]
  },
  {
   "cell_type": "code",
   "execution_count": 2,
   "metadata": {},
   "outputs": [
    {
     "data": {
      "text/html": [
       "<div>\n",
       "<style scoped>\n",
       "    .dataframe tbody tr th:only-of-type {\n",
       "        vertical-align: middle;\n",
       "    }\n",
       "\n",
       "    .dataframe tbody tr th {\n",
       "        vertical-align: top;\n",
       "    }\n",
       "\n",
       "    .dataframe thead th {\n",
       "        text-align: right;\n",
       "    }\n",
       "</style>\n",
       "<table border=\"1\" class=\"dataframe\">\n",
       "  <thead>\n",
       "    <tr style=\"text-align: right;\">\n",
       "      <th></th>\n",
       "      <th>case_number</th>\n",
       "      <th>year</th>\n",
       "      <th>type</th>\n",
       "      <th>country</th>\n",
       "      <th>activity</th>\n",
       "      <th>age</th>\n",
       "      <th>time</th>\n",
       "      <th>species_</th>\n",
       "      <th>mes</th>\n",
       "      <th>fatal_</th>\n",
       "      <th>sex2</th>\n",
       "      <th>cleaned_species</th>\n",
       "    </tr>\n",
       "  </thead>\n",
       "  <tbody>\n",
       "    <tr>\n",
       "      <th>5460</th>\n",
       "      <td>1916.07.12.c</td>\n",
       "      <td>1916</td>\n",
       "      <td>Unprovoked</td>\n",
       "      <td>usa</td>\n",
       "      <td>Swimming</td>\n",
       "      <td>27</td>\n",
       "      <td>NaN</td>\n",
       "      <td>Said to involve a 2.7 m [9'] shark</td>\n",
       "      <td>Jul</td>\n",
       "      <td>n</td>\n",
       "      <td>M</td>\n",
       "      <td>Undefined</td>\n",
       "    </tr>\n",
       "    <tr>\n",
       "      <th>1884</th>\n",
       "      <td>2003.11.06.b</td>\n",
       "      <td>2003</td>\n",
       "      <td>Unprovoked</td>\n",
       "      <td>egypt</td>\n",
       "      <td>Snorkeling</td>\n",
       "      <td>27</td>\n",
       "      <td>NaN</td>\n",
       "      <td>2.5 oceanic whitetip shark</td>\n",
       "      <td>Nov</td>\n",
       "      <td>n</td>\n",
       "      <td>M</td>\n",
       "      <td>White</td>\n",
       "    </tr>\n",
       "  </tbody>\n",
       "</table>\n",
       "</div>"
      ],
      "text/plain": [
       "       case_number  year        type country    activity  age time  \\\n",
       "5460  1916.07.12.c  1916  Unprovoked     usa    Swimming   27  NaN   \n",
       "1884  2003.11.06.b  2003  Unprovoked   egypt  Snorkeling   27  NaN   \n",
       "\n",
       "                                species_  mes fatal_ sex2 cleaned_species  \n",
       "5460  Said to involve a 2.7 m [9'] shark  Jul      n    M       Undefined  \n",
       "1884          2.5 oceanic whitetip shark  Nov      n    M           White  "
      ]
     },
     "execution_count": 2,
     "metadata": {},
     "output_type": "execute_result"
    }
   ],
   "source": [
    "df=pd.read_csv('../EDA/datos/attack_limpieza3.csv', index_col=0)\n",
    "df.sample(2)"
   ]
  },
  {
   "cell_type": "markdown",
   "metadata": {},
   "source": [
    "## Limpieza V - Valores Nulos Sklearn"
   ]
  },
  {
   "cell_type": "markdown",
   "metadata": {},
   "source": [
    "Es el momento de ponernos a trabajar con los valores nulos de nuevo 💪🏽. A lo largo de este ejercicio de pair programming vamos a intentar eliminar los valores nulos de nuestras columnas. En la lección hemos aprendido varios métodos de skelarn intentemos aplicarlos todos. Manos a la obra!"
   ]
  },
  {
   "cell_type": "markdown",
   "metadata": {},
   "source": [
    "- EJERCICIO 1: Es el momento de eliminar los nulos:"
   ]
  },
  {
   "cell_type": "markdown",
   "metadata": {},
   "source": [
    "> Reemplazad los valores nulos de la columna age por la media de la edad usando el método SimpleImputer."
   ]
  },
  {
   "cell_type": "code",
   "execution_count": 3,
   "metadata": {},
   "outputs": [],
   "source": [
    "#Iniciamos el método a realizar\n",
    "imputer=SimpleImputer(strategy=\"mean\", missing_values=np.nan)\n",
    "\n",
    "#Vamos a ejecutar la instacia en la columna que queremos limpiar\n",
    "imputer=imputer.fit(df[[\"age\"]])\n",
    "\n",
    "#vamos a transformar nuestro DataFrame\n",
    "df[\"age\"]=imputer.transform(df[[\"age\"]])"
   ]
  },
  {
   "cell_type": "markdown",
   "metadata": {},
   "source": [
    "> Reemplazad los valores nulos de la columna sex por la moda, usando el método SimpleImputer. 💡 Pista 💡 La moda en este tipo de aproximación se indica como most_frequent."
   ]
  },
  {
   "cell_type": "code",
   "execution_count": 4,
   "metadata": {},
   "outputs": [],
   "source": [
    "#Iniciamos el método a realizar\n",
    "imputer=SimpleImputer(strategy=\"most_frequent\", missing_values=np.nan)\n",
    "\n",
    "#Vamos a ejecutar la instacia en la columna que queremos limpiar\n",
    "imputer=imputer.fit(df[[\"sex2\"]])\n",
    "\n",
    "#vamos a transformar nuestro DataFrame\n",
    "df[\"sex2\"]=imputer.transform(df[[\"sex2\"]])"
   ]
  },
  {
   "cell_type": "markdown",
   "metadata": {},
   "source": [
    "> Reemplazad los valores nulos de la columna type por el valor más frecuente (la moda) con el método SimpleImputer."
   ]
  },
  {
   "cell_type": "code",
   "execution_count": 5,
   "metadata": {},
   "outputs": [],
   "source": [
    "#Iniciamos el método a realizar\n",
    "imputer=SimpleImputer(strategy=\"most_frequent\", missing_values=np.nan)\n",
    "\n",
    "#Vamos a ejecutar la instacia en la columna que queremos limpiar\n",
    "imputer=imputer.fit(df[[\"type\"]])\n",
    "\n",
    "#vamos a transformar nuestro DataFrame\n",
    "df[\"type\"]=imputer.transform(df[[\"type\"]])"
   ]
  },
  {
   "cell_type": "markdown",
   "metadata": {},
   "source": [
    "> Utilizad el método KNN Imputer para reemplazar todos los valores nulos de las columnas numéricas."
   ]
  },
  {
   "cell_type": "code",
   "execution_count": 6,
   "metadata": {},
   "outputs": [
    {
     "data": {
      "text/html": [
       "<div>\n",
       "<style scoped>\n",
       "    .dataframe tbody tr th:only-of-type {\n",
       "        vertical-align: middle;\n",
       "    }\n",
       "\n",
       "    .dataframe tbody tr th {\n",
       "        vertical-align: top;\n",
       "    }\n",
       "\n",
       "    .dataframe thead th {\n",
       "        text-align: right;\n",
       "    }\n",
       "</style>\n",
       "<table border=\"1\" class=\"dataframe\">\n",
       "  <thead>\n",
       "    <tr style=\"text-align: right;\">\n",
       "      <th></th>\n",
       "      <th>year</th>\n",
       "      <th>age</th>\n",
       "    </tr>\n",
       "  </thead>\n",
       "  <tbody>\n",
       "    <tr>\n",
       "      <th>0</th>\n",
       "      <td>1976</td>\n",
       "      <td>27.0</td>\n",
       "    </tr>\n",
       "    <tr>\n",
       "      <th>1</th>\n",
       "      <td>1976</td>\n",
       "      <td>27.0</td>\n",
       "    </tr>\n",
       "    <tr>\n",
       "      <th>2</th>\n",
       "      <td>1976</td>\n",
       "      <td>27.0</td>\n",
       "    </tr>\n",
       "    <tr>\n",
       "      <th>3</th>\n",
       "      <td>1976</td>\n",
       "      <td>27.0</td>\n",
       "    </tr>\n",
       "    <tr>\n",
       "      <th>4</th>\n",
       "      <td>1976</td>\n",
       "      <td>27.0</td>\n",
       "    </tr>\n",
       "  </tbody>\n",
       "</table>\n",
       "</div>"
      ],
      "text/plain": [
       "   year   age\n",
       "0  1976  27.0\n",
       "1  1976  27.0\n",
       "2  1976  27.0\n",
       "3  1976  27.0\n",
       "4  1976  27.0"
      ]
     },
     "execution_count": 6,
     "metadata": {},
     "output_type": "execute_result"
    }
   ],
   "source": [
    "df_knn=df.copy()\n",
    "numericas=df_knn.select_dtypes(include=\"number\")\n",
    "numericas.head(5)"
   ]
  },
  {
   "cell_type": "code",
   "execution_count": 7,
   "metadata": {},
   "outputs": [],
   "source": [
    "#Iniciamos el KNNImputer\n",
    "imputerKNN=KNNImputer(n_neighbors=5)\n",
    "imputerKNN.fit(numericas)\n",
    "\n",
    "#aplicamos el método\n",
    "numericas_knn=imputerKNN.transform(numericas)\n",
    "\n",
    "#lo convertimos a un datafraame\n",
    "\n",
    "df_num_knn=pd.DataFrame(numericas_knn, columns=numericas.columns)\n",
    "\n",
    "# sacamos el nombre de nuestras columnaas\n",
    "columnas_knn=df_num_knn.columns\n",
    "\n",
    "#Eliminamos las columnas\n",
    "df_knn.drop(columnas_knn, axis=1, inplace=True)\n",
    "\n",
    "#creamos las nuevas columnas a las que le aplicamos el método knn\n",
    "df_knn[columnas_knn]=numericas_knn\n"
   ]
  },
  {
   "cell_type": "code",
   "execution_count": 8,
   "metadata": {},
   "outputs": [
    {
     "data": {
      "text/html": [
       "<div>\n",
       "<style scoped>\n",
       "    .dataframe tbody tr th:only-of-type {\n",
       "        vertical-align: middle;\n",
       "    }\n",
       "\n",
       "    .dataframe tbody tr th {\n",
       "        vertical-align: top;\n",
       "    }\n",
       "\n",
       "    .dataframe thead th {\n",
       "        text-align: right;\n",
       "    }\n",
       "</style>\n",
       "<table border=\"1\" class=\"dataframe\">\n",
       "  <thead>\n",
       "    <tr style=\"text-align: right;\">\n",
       "      <th></th>\n",
       "      <th>case_number</th>\n",
       "      <th>type</th>\n",
       "      <th>country</th>\n",
       "      <th>activity</th>\n",
       "      <th>time</th>\n",
       "      <th>species_</th>\n",
       "      <th>mes</th>\n",
       "      <th>fatal_</th>\n",
       "      <th>sex2</th>\n",
       "      <th>cleaned_species</th>\n",
       "      <th>year</th>\n",
       "      <th>age</th>\n",
       "    </tr>\n",
       "  </thead>\n",
       "  <tbody>\n",
       "    <tr>\n",
       "      <th>0</th>\n",
       "      <td>1800.00.00</td>\n",
       "      <td>Unprovoked</td>\n",
       "      <td>seychelles</td>\n",
       "      <td>a corsair's boat was overturned</td>\n",
       "      <td>NaN</td>\n",
       "      <td>NAN</td>\n",
       "      <td>NaN</td>\n",
       "      <td>y</td>\n",
       "      <td>F</td>\n",
       "      <td>Undefined</td>\n",
       "      <td>1976.0</td>\n",
       "      <td>27.0</td>\n",
       "    </tr>\n",
       "    <tr>\n",
       "      <th>1</th>\n",
       "      <td>1797.05.28.R</td>\n",
       "      <td>Unprovoked</td>\n",
       "      <td>NaN</td>\n",
       "      <td>Dropped overboard</td>\n",
       "      <td>NaN</td>\n",
       "      <td>NAN</td>\n",
       "      <td>May</td>\n",
       "      <td>y</td>\n",
       "      <td>M</td>\n",
       "      <td>Undefined</td>\n",
       "      <td>1976.0</td>\n",
       "      <td>27.0</td>\n",
       "    </tr>\n",
       "    <tr>\n",
       "      <th>2</th>\n",
       "      <td>1792.09.12</td>\n",
       "      <td>Provoked</td>\n",
       "      <td>england</td>\n",
       "      <td>Fishing</td>\n",
       "      <td>NaN</td>\n",
       "      <td>NAN</td>\n",
       "      <td>Sep</td>\n",
       "      <td>y</td>\n",
       "      <td>M</td>\n",
       "      <td>Undefined</td>\n",
       "      <td>1976.0</td>\n",
       "      <td>27.0</td>\n",
       "    </tr>\n",
       "    <tr>\n",
       "      <th>3</th>\n",
       "      <td>1791.00.00</td>\n",
       "      <td>Unprovoked</td>\n",
       "      <td>australia</td>\n",
       "      <td>NaN</td>\n",
       "      <td>NaN</td>\n",
       "      <td>NAN</td>\n",
       "      <td>NaN</td>\n",
       "      <td>y</td>\n",
       "      <td>F</td>\n",
       "      <td>Undefined</td>\n",
       "      <td>1976.0</td>\n",
       "      <td>27.0</td>\n",
       "    </tr>\n",
       "    <tr>\n",
       "      <th>4</th>\n",
       "      <td>1788.05.10</td>\n",
       "      <td>Boat</td>\n",
       "      <td>australia</td>\n",
       "      <td>Fishing</td>\n",
       "      <td>NaN</td>\n",
       "      <td>NAN</td>\n",
       "      <td>May</td>\n",
       "      <td>n</td>\n",
       "      <td>M</td>\n",
       "      <td>Undefined</td>\n",
       "      <td>1976.0</td>\n",
       "      <td>27.0</td>\n",
       "    </tr>\n",
       "  </tbody>\n",
       "</table>\n",
       "</div>"
      ],
      "text/plain": [
       "    case_number        type     country                         activity time  \\\n",
       "0    1800.00.00  Unprovoked  seychelles  a corsair's boat was overturned  NaN   \n",
       "1  1797.05.28.R  Unprovoked         NaN                Dropped overboard  NaN   \n",
       "2    1792.09.12    Provoked     england                          Fishing  NaN   \n",
       "3    1791.00.00  Unprovoked   australia                              NaN  NaN   \n",
       "4    1788.05.10        Boat   australia                          Fishing  NaN   \n",
       "\n",
       "  species_  mes fatal_ sex2 cleaned_species    year   age  \n",
       "0      NAN  NaN      y    F       Undefined  1976.0  27.0  \n",
       "1      NAN  May      y    M       Undefined  1976.0  27.0  \n",
       "2      NAN  Sep      y    M       Undefined  1976.0  27.0  \n",
       "3      NAN  NaN      y    F       Undefined  1976.0  27.0  \n",
       "4      NAN  May      n    M       Undefined  1976.0  27.0  "
      ]
     },
     "execution_count": 8,
     "metadata": {},
     "output_type": "execute_result"
    }
   ],
   "source": [
    "df_knn.head()"
   ]
  },
  {
   "cell_type": "code",
   "execution_count": 9,
   "metadata": {},
   "outputs": [
    {
     "data": {
      "text/plain": [
       "case_number           1\n",
       "type                  0\n",
       "country              50\n",
       "activity            544\n",
       "time               3363\n",
       "species_              0\n",
       "mes                 576\n",
       "fatal_              618\n",
       "sex2                  0\n",
       "cleaned_species       0\n",
       "year                  0\n",
       "age                   0\n",
       "dtype: int64"
      ]
     },
     "execution_count": 9,
     "metadata": {},
     "output_type": "execute_result"
    }
   ],
   "source": [
    "df_knn.isnull().sum()"
   ]
  },
  {
   "cell_type": "markdown",
   "metadata": {},
   "source": [
    "> Utilizad el método Iterative Imputer para reemplazar todos los valores nulos de las columnas numéricas."
   ]
  },
  {
   "cell_type": "code",
   "execution_count": 10,
   "metadata": {},
   "outputs": [],
   "source": [
    "df_iterative=df.copy()\n",
    "numericas_ite=df.select_dtypes(include= np.number)"
   ]
  },
  {
   "cell_type": "code",
   "execution_count": 11,
   "metadata": {},
   "outputs": [],
   "source": [
    "#Creamos la instancia\n",
    "imputer=IterativeImputer(n_nearest_features=None, imputation_order=\"ascending\")\n",
    "\n",
    "#Lo aplicamos sobre nuestras variables\n",
    "imputer.fit(numericas_ite)\n",
    "\n",
    "#transformamos nuestros datos\n",
    "imputer.transform(numericas_ite)\n",
    "\n",
    "#Convertimos el array en dataframe\n",
    "numericas_trans=pd.DataFrame(imputer.transform(numericas_ite), columns=numericas_ite.columns)\n",
    "\n",
    "#Sacamos el nombre de las columnas\n",
    "columnas_ite=numericas_trans.columns\n",
    "\n",
    "#eliminamos las columnas\n",
    "df_iterative.drop(columnas_ite, axis=1, inplace= True)\n",
    "\n",
    "df_iterative[columnas_ite]=numericas_trans[columnas_ite]\n"
   ]
  },
  {
   "cell_type": "markdown",
   "metadata": {},
   "source": [
    "> ¿Podríais explicar qué diferencia hay entre estos dos últimos métodos?"
   ]
  },
  {
   "cell_type": "markdown",
   "metadata": {},
   "source": [
    "No se puede apreciar un cambio como tal ya que las columnas númericas que tenemos no tienen nulos desde un principio, pero aún así se puede ver que usar un método o el otro es lo mismo ya que son los mismos pasos."
   ]
  },
  {
   "cell_type": "markdown",
   "metadata": {},
   "source": [
    "- EJERCICIO 2: Guardad el csv para seguir trabajando con el en los siguientes ejercicios de pair"
   ]
  },
  {
   "cell_type": "code",
   "execution_count": 12,
   "metadata": {},
   "outputs": [],
   "source": [
    "df.to_csv(\"../EDA/datos/attack_limpieza5.csv\")"
   ]
  }
 ],
 "metadata": {
  "kernelspec": {
   "display_name": "Python 3.9.7 ('base')",
   "language": "python",
   "name": "python3"
  },
  "language_info": {
   "codemirror_mode": {
    "name": "ipython",
    "version": 3
   },
   "file_extension": ".py",
   "mimetype": "text/x-python",
   "name": "python",
   "nbconvert_exporter": "python",
   "pygments_lexer": "ipython3",
   "version": "3.9.7"
  },
  "orig_nbformat": 4,
  "vscode": {
   "interpreter": {
    "hash": "c077ba4c986d0c674841b1bde68a642c04a6e440695030e9d779c08f2cbfb9f4"
   }
  }
 },
 "nbformat": 4,
 "nbformat_minor": 2
}
