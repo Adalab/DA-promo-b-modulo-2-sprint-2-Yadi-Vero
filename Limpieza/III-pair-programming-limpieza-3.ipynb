{
 "cells": [
  {
   "cell_type": "code",
   "execution_count": 1,
   "metadata": {},
   "outputs": [],
   "source": [
    "import pandas as pd\n",
    "import numpy as np\n",
    "import sidetable\n",
    "import seaborn as sns\n",
    "import matplotlib.pyplot as plt"
   ]
  },
  {
   "cell_type": "markdown",
   "metadata": {},
   "source": [
    "De todo esto, nos damos cuenta que solo tenemos que limpiar algunas de las columnas, en concreto age, species, country, fatal, year, sex. Si reducimos esto a una tabla para saber que tenemos ya limpito y que no. **Actualizamos esta tabla ya que en el ejercicio de pair de Limpieza I ya dejamos algunas columnas limpitas:\n",
    "\n",
    "age | ❌ esta en formato string cuando debería ser integer y en algunos casos tenemos rangos de edad\n",
    "\n",
    "species | ❌ es un jaleo! Debemos unificar los nombres y reducir a las especies más importantes"
   ]
  },
  {
   "cell_type": "code",
   "execution_count": 2,
   "metadata": {},
   "outputs": [
    {
     "data": {
      "text/html": [
       "<div>\n",
       "<style scoped>\n",
       "    .dataframe tbody tr th:only-of-type {\n",
       "        vertical-align: middle;\n",
       "    }\n",
       "\n",
       "    .dataframe tbody tr th {\n",
       "        vertical-align: top;\n",
       "    }\n",
       "\n",
       "    .dataframe thead th {\n",
       "        text-align: right;\n",
       "    }\n",
       "</style>\n",
       "<table border=\"1\" class=\"dataframe\">\n",
       "  <thead>\n",
       "    <tr style=\"text-align: right;\">\n",
       "      <th></th>\n",
       "      <th>case_number</th>\n",
       "      <th>year</th>\n",
       "      <th>type</th>\n",
       "      <th>country</th>\n",
       "      <th>activity</th>\n",
       "      <th>age</th>\n",
       "      <th>time</th>\n",
       "      <th>species_</th>\n",
       "      <th>mes</th>\n",
       "      <th>fatal_</th>\n",
       "      <th>sex2</th>\n",
       "      <th>cleaned_species</th>\n",
       "    </tr>\n",
       "  </thead>\n",
       "  <tbody>\n",
       "    <tr>\n",
       "      <th>6107</th>\n",
       "      <td>1863.07.09</td>\n",
       "      <td>1863</td>\n",
       "      <td>Provoked</td>\n",
       "      <td>usa</td>\n",
       "      <td>Fishing</td>\n",
       "      <td>27</td>\n",
       "      <td>NaN</td>\n",
       "      <td>NAN</td>\n",
       "      <td>Jul</td>\n",
       "      <td>n</td>\n",
       "      <td>M</td>\n",
       "      <td>Undefined</td>\n",
       "    </tr>\n",
       "    <tr>\n",
       "      <th>4707</th>\n",
       "      <td>1948.03.13.R</td>\n",
       "      <td>1948</td>\n",
       "      <td>Unprovoked</td>\n",
       "      <td>kenya</td>\n",
       "      <td>NaN</td>\n",
       "      <td>27</td>\n",
       "      <td>NaN</td>\n",
       "      <td>NAN</td>\n",
       "      <td>Mar</td>\n",
       "      <td>y</td>\n",
       "      <td>M</td>\n",
       "      <td>Undefined</td>\n",
       "    </tr>\n",
       "  </tbody>\n",
       "</table>\n",
       "</div>"
      ],
      "text/plain": [
       "       case_number  year        type country activity  age time species_  mes  \\\n",
       "6107    1863.07.09  1863    Provoked     usa  Fishing   27  NaN      NAN  Jul   \n",
       "4707  1948.03.13.R  1948  Unprovoked   kenya      NaN   27  NaN      NAN  Mar   \n",
       "\n",
       "     fatal_ sex2 cleaned_species  \n",
       "6107      n    M       Undefined  \n",
       "4707      y    M       Undefined  "
      ]
     },
     "execution_count": 2,
     "metadata": {},
     "output_type": "execute_result"
    }
   ],
   "source": [
    "df=pd.read_csv('../EDA/datos/attack_limpieza2.csv', index_col=0)\n",
    "df.sample(2)"
   ]
  },
  {
   "cell_type": "markdown",
   "metadata": {},
   "source": [
    "Por lo tanto, en este ejercicio tendremos que limpiar los outliers.\n",
    "- EJERCICIO 1: ¿Sobre qué columnas podremos eliminar o reemplazar los outliers?"
   ]
  },
  {
   "cell_type": "code",
   "execution_count": 3,
   "metadata": {},
   "outputs": [
    {
     "data": {
      "text/html": [
       "<div>\n",
       "<style scoped>\n",
       "    .dataframe tbody tr th:only-of-type {\n",
       "        vertical-align: middle;\n",
       "    }\n",
       "\n",
       "    .dataframe tbody tr th {\n",
       "        vertical-align: top;\n",
       "    }\n",
       "\n",
       "    .dataframe thead th {\n",
       "        text-align: right;\n",
       "    }\n",
       "</style>\n",
       "<table border=\"1\" class=\"dataframe\">\n",
       "  <thead>\n",
       "    <tr style=\"text-align: right;\">\n",
       "      <th></th>\n",
       "      <th>year</th>\n",
       "      <th>age</th>\n",
       "    </tr>\n",
       "  </thead>\n",
       "  <tbody>\n",
       "    <tr>\n",
       "      <th>334</th>\n",
       "      <td>2017</td>\n",
       "      <td>51</td>\n",
       "    </tr>\n",
       "    <tr>\n",
       "      <th>2344</th>\n",
       "      <td>1998</td>\n",
       "      <td>26</td>\n",
       "    </tr>\n",
       "  </tbody>\n",
       "</table>\n",
       "</div>"
      ],
      "text/plain": [
       "      year  age\n",
       "334   2017   51\n",
       "2344  1998   26"
      ]
     },
     "execution_count": 3,
     "metadata": {},
     "output_type": "execute_result"
    }
   ],
   "source": [
    "df_num=df.select_dtypes(include=np.number)\n",
    "df_num.sample(2)"
   ]
  },
  {
   "cell_type": "markdown",
   "metadata": {},
   "source": [
    "- EJERCICIO 2: Identifica visualmente los outliers"
   ]
  },
  {
   "cell_type": "code",
   "execution_count": 4,
   "metadata": {},
   "outputs": [
    {
     "data": {
      "image/png": "[encoded data removed]",
      "text/plain": [
       "<Figure size 1400x800 with 2 Axes>"
      ]
     },
     "metadata": {},
     "output_type": "display_data"
    }
   ],
   "source": [
    "fig, ax = plt.subplots(2,1, figsize=(14,8))\n",
    "for i in range(len(df_num.columns)):\n",
    "    sns.boxplot(x=df_num.columns[i], data=df_num, ax=ax[i])\n",
    "plt.show()"
   ]
  },
  {
   "cell_type": "code",
   "execution_count": 5,
   "metadata": {},
   "outputs": [
    {
     "data": {
      "text/plain": [
       "year    0\n",
       "age     0\n",
       "dtype: int64"
      ]
     },
     "execution_count": 5,
     "metadata": {},
     "output_type": "execute_result"
    }
   ],
   "source": [
    "df_num.isnull().sum()"
   ]
  },
  {
   "cell_type": "markdown",
   "metadata": {},
   "source": [
    "- EJERCICIO 3: Identifica sobre el dataframe las filas que son outliers"
   ]
  },
  {
   "cell_type": "code",
   "execution_count": 6,
   "metadata": {},
   "outputs": [],
   "source": [
    "q1_year=np.percentile(df[\"year\"],25)\n",
    "q3_year=np.percentile(df[\"year\"],75)\n",
    "iqr_year=q3_year-q1_year\n",
    "outlier_step=1.5 * iqr_year\n",
    "outliers_year=df[(df[\"year\"]< q1_year - outlier_step) | (df[\"year\"]> q3_year + outlier_step)]"
   ]
  },
  {
   "cell_type": "code",
   "execution_count": 7,
   "metadata": {},
   "outputs": [
    {
     "data": {
      "text/html": [
       "<div>\n",
       "<style scoped>\n",
       "    .dataframe tbody tr th:only-of-type {\n",
       "        vertical-align: middle;\n",
       "    }\n",
       "\n",
       "    .dataframe tbody tr th {\n",
       "        vertical-align: top;\n",
       "    }\n",
       "\n",
       "    .dataframe thead th {\n",
       "        text-align: right;\n",
       "    }\n",
       "</style>\n",
       "<table border=\"1\" class=\"dataframe\">\n",
       "  <thead>\n",
       "    <tr style=\"text-align: right;\">\n",
       "      <th></th>\n",
       "      <th>case_number</th>\n",
       "      <th>year</th>\n",
       "      <th>type</th>\n",
       "      <th>country</th>\n",
       "      <th>activity</th>\n",
       "      <th>age</th>\n",
       "      <th>time</th>\n",
       "      <th>species_</th>\n",
       "      <th>mes</th>\n",
       "      <th>fatal_</th>\n",
       "      <th>sex2</th>\n",
       "      <th>cleaned_species</th>\n",
       "    </tr>\n",
       "  </thead>\n",
       "  <tbody>\n",
       "    <tr>\n",
       "      <th>6227</th>\n",
       "      <td>1839.00.00.a</td>\n",
       "      <td>1839</td>\n",
       "      <td>Unprovoked</td>\n",
       "      <td>fiji</td>\n",
       "      <td>NaN</td>\n",
       "      <td>29</td>\n",
       "      <td>NaN</td>\n",
       "      <td>NAN</td>\n",
       "      <td>NaN</td>\n",
       "      <td>n</td>\n",
       "      <td>M</td>\n",
       "      <td>Undefined</td>\n",
       "    </tr>\n",
       "    <tr>\n",
       "      <th>73</th>\n",
       "      <td>ND-0115</td>\n",
       "      <td>0</td>\n",
       "      <td>Unprovoked</td>\n",
       "      <td>new zealand</td>\n",
       "      <td>NaN</td>\n",
       "      <td>27</td>\n",
       "      <td>NaN</td>\n",
       "      <td>NAN</td>\n",
       "      <td>Jun</td>\n",
       "      <td>y</td>\n",
       "      <td>M</td>\n",
       "      <td>Undefined</td>\n",
       "    </tr>\n",
       "    <tr>\n",
       "      <th>83</th>\n",
       "      <td>ND.0102</td>\n",
       "      <td>0</td>\n",
       "      <td>Unprovoked</td>\n",
       "      <td>bahrein</td>\n",
       "      <td>Pearl diving</td>\n",
       "      <td>27</td>\n",
       "      <td>NaN</td>\n",
       "      <td>Tiger shark</td>\n",
       "      <td>NaN</td>\n",
       "      <td>y</td>\n",
       "      <td>M</td>\n",
       "      <td>Tiger</td>\n",
       "    </tr>\n",
       "    <tr>\n",
       "      <th>144</th>\n",
       "      <td>ND.0026</td>\n",
       "      <td>0</td>\n",
       "      <td>Unprovoked</td>\n",
       "      <td>belize</td>\n",
       "      <td>Standing</td>\n",
       "      <td>16</td>\n",
       "      <td>NaN</td>\n",
       "      <td>12' tiger shark</td>\n",
       "      <td>NaN</td>\n",
       "      <td>y</td>\n",
       "      <td>M</td>\n",
       "      <td>Tiger</td>\n",
       "    </tr>\n",
       "    <tr>\n",
       "      <th>107</th>\n",
       "      <td>ND.0068</td>\n",
       "      <td>0</td>\n",
       "      <td>Unprovoked</td>\n",
       "      <td>mozambique</td>\n",
       "      <td>Skindiving</td>\n",
       "      <td>36</td>\n",
       "      <td>NaN</td>\n",
       "      <td>\"A pack of sharks\"</td>\n",
       "      <td>NaN</td>\n",
       "      <td>n</td>\n",
       "      <td>M</td>\n",
       "      <td>Undefined</td>\n",
       "    </tr>\n",
       "  </tbody>\n",
       "</table>\n",
       "</div>"
      ],
      "text/plain": [
       "       case_number  year        type      country      activity  age time  \\\n",
       "6227  1839.00.00.a  1839  Unprovoked         fiji           NaN   29  NaN   \n",
       "73         ND-0115     0  Unprovoked  new zealand           NaN   27  NaN   \n",
       "83         ND.0102     0  Unprovoked      bahrein  Pearl diving   27  NaN   \n",
       "144        ND.0026     0  Unprovoked       belize      Standing   16  NaN   \n",
       "107        ND.0068     0  Unprovoked   mozambique    Skindiving   36  NaN   \n",
       "\n",
       "                species_  mes fatal_ sex2 cleaned_species  \n",
       "6227                 NAN  NaN      n    M       Undefined  \n",
       "73                   NAN  Jun      y    M       Undefined  \n",
       "83           Tiger shark  NaN      y    M           Tiger  \n",
       "144      12' tiger shark  NaN      y    M           Tiger  \n",
       "107   \"A pack of sharks\"  NaN      n    M       Undefined  "
      ]
     },
     "execution_count": 7,
     "metadata": {},
     "output_type": "execute_result"
    }
   ],
   "source": [
    "outliers_year.sample(5)"
   ]
  },
  {
   "cell_type": "code",
   "execution_count": 8,
   "metadata": {},
   "outputs": [
    {
     "data": {
      "text/html": [
       "<div>\n",
       "<style scoped>\n",
       "    .dataframe tbody tr th:only-of-type {\n",
       "        vertical-align: middle;\n",
       "    }\n",
       "\n",
       "    .dataframe tbody tr th {\n",
       "        vertical-align: top;\n",
       "    }\n",
       "\n",
       "    .dataframe thead th {\n",
       "        text-align: right;\n",
       "    }\n",
       "</style>\n",
       "<table border=\"1\" class=\"dataframe\">\n",
       "  <thead>\n",
       "    <tr style=\"text-align: right;\">\n",
       "      <th></th>\n",
       "      <th>case_number</th>\n",
       "      <th>year</th>\n",
       "      <th>type</th>\n",
       "      <th>country</th>\n",
       "      <th>activity</th>\n",
       "      <th>age</th>\n",
       "      <th>time</th>\n",
       "      <th>species_</th>\n",
       "      <th>mes</th>\n",
       "      <th>fatal_</th>\n",
       "      <th>sex2</th>\n",
       "      <th>cleaned_species</th>\n",
       "    </tr>\n",
       "  </thead>\n",
       "  <tbody>\n",
       "    <tr>\n",
       "      <th>1192</th>\n",
       "      <td>2010.05.18.c</td>\n",
       "      <td>2010</td>\n",
       "      <td>Unprovoked</td>\n",
       "      <td>vietnam</td>\n",
       "      <td>Rescuing</td>\n",
       "      <td>58</td>\n",
       "      <td>18h00</td>\n",
       "      <td>20 to 30kg shark</td>\n",
       "      <td>May</td>\n",
       "      <td>n</td>\n",
       "      <td>F</td>\n",
       "      <td>Undefined</td>\n",
       "    </tr>\n",
       "    <tr>\n",
       "      <th>2893</th>\n",
       "      <td>1988.06.05</td>\n",
       "      <td>1988</td>\n",
       "      <td>Unprovoked</td>\n",
       "      <td>usa</td>\n",
       "      <td>Swimming</td>\n",
       "      <td>12</td>\n",
       "      <td>12h00</td>\n",
       "      <td>NAN</td>\n",
       "      <td>Jun</td>\n",
       "      <td>n</td>\n",
       "      <td>M</td>\n",
       "      <td>Undefined</td>\n",
       "    </tr>\n",
       "    <tr>\n",
       "      <th>1907</th>\n",
       "      <td>2003.09.14.a</td>\n",
       "      <td>2003</td>\n",
       "      <td>Invalid</td>\n",
       "      <td>usa</td>\n",
       "      <td>Swimming</td>\n",
       "      <td>10</td>\n",
       "      <td>13h30</td>\n",
       "      <td>Shark involvement doubtful</td>\n",
       "      <td>Sep</td>\n",
       "      <td>NaN</td>\n",
       "      <td>F</td>\n",
       "      <td>Undefined</td>\n",
       "    </tr>\n",
       "    <tr>\n",
       "      <th>1055</th>\n",
       "      <td>2011.08.01</td>\n",
       "      <td>2011</td>\n",
       "      <td>Unprovoked</td>\n",
       "      <td>seychelles</td>\n",
       "      <td>Diving</td>\n",
       "      <td>36</td>\n",
       "      <td>15h30</td>\n",
       "      <td>NAN</td>\n",
       "      <td>Aug</td>\n",
       "      <td>y</td>\n",
       "      <td>M</td>\n",
       "      <td>Undefined</td>\n",
       "    </tr>\n",
       "    <tr>\n",
       "      <th>461</th>\n",
       "      <td>2016.03.31</td>\n",
       "      <td>2016</td>\n",
       "      <td>Unprovoked</td>\n",
       "      <td>usa</td>\n",
       "      <td>Snorkeling</td>\n",
       "      <td>46</td>\n",
       "      <td>11h00</td>\n",
       "      <td>NAN</td>\n",
       "      <td>Mar</td>\n",
       "      <td>n</td>\n",
       "      <td>F</td>\n",
       "      <td>Undefined</td>\n",
       "    </tr>\n",
       "  </tbody>\n",
       "</table>\n",
       "</div>"
      ],
      "text/plain": [
       "       case_number  year        type     country    activity  age   time  \\\n",
       "1192  2010.05.18.c  2010  Unprovoked     vietnam    Rescuing   58  18h00   \n",
       "2893    1988.06.05  1988  Unprovoked         usa    Swimming   12  12h00   \n",
       "1907  2003.09.14.a  2003     Invalid         usa    Swimming   10  13h30   \n",
       "1055    2011.08.01  2011  Unprovoked  seychelles      Diving   36  15h30   \n",
       "461     2016.03.31  2016  Unprovoked         usa  Snorkeling   46  11h00   \n",
       "\n",
       "                        species_  mes fatal_ sex2 cleaned_species  \n",
       "1192            20 to 30kg shark  May      n    F       Undefined  \n",
       "2893                         NAN  Jun      n    M       Undefined  \n",
       "1907  Shark involvement doubtful  Sep    NaN    F       Undefined  \n",
       "1055                         NAN  Aug      y    M       Undefined  \n",
       "461                          NAN  Mar      n    F       Undefined  "
      ]
     },
     "execution_count": 8,
     "metadata": {},
     "output_type": "execute_result"
    }
   ],
   "source": [
    "q1_age=np.percentile(df[\"age\"],25)\n",
    "q3_age=np.percentile(df[\"age\"],75)\n",
    "iqr_age=q3_age-q1_age\n",
    "outlier_age_step=1.5 * iqr_age\n",
    "outliers_age=df[(df[\"age\"]< q1_age - outlier_age_step) | (df[\"age\"]> q3_age + outlier_age_step)]\n",
    "outliers_age.sample(5)"
   ]
  },
  {
   "cell_type": "markdown",
   "metadata": {},
   "source": [
    "- EJERCICIO 4: Reemplaza los outliers por el estadístico más correcto."
   ]
  },
  {
   "cell_type": "code",
   "execution_count": 9,
   "metadata": {},
   "outputs": [],
   "source": [
    "def indices_year(columnas, df): #Función para sacr los indices de la columna year\n",
    "    \n",
    "    dicc={} \n",
    "    for col in columnas:\n",
    "        Q1=np.nanpercentile(df[col], 25)\n",
    "        Q3=np.nanpercentile(df[col], 75)\n",
    "        IQR=Q3-Q1\n",
    "        outliers_step=1.5*IQR\n",
    "        outliers_data=df[(df[col] < Q1-outliers_step) | (df[col] > Q3+outliers_step)]\n",
    "        #Sacamos los indices\n",
    "        if outliers_data.shape[0] > 0: \n",
    "            dicc[col]=(list(outliers_data.index))\n",
    "    return dicc\n"
   ]
  },
  {
   "cell_type": "code",
   "execution_count": 10,
   "metadata": {},
   "outputs": [],
   "source": [
    "lista_columnas=[\"year\"]\n",
    "ind=indices_year(lista_columnas, df)"
   ]
  },
  {
   "cell_type": "code",
   "execution_count": 11,
   "metadata": {},
   "outputs": [],
   "source": [
    "for k, v in ind.items(): #aqui iteramos por esos indices y los cambiamos por la mediana de la columna year\n",
    "    mediana=df[k].median()\n",
    "    for i in v:\n",
    "        df.loc[i,k]=mediana"
   ]
  },
  {
   "cell_type": "code",
   "execution_count": 12,
   "metadata": {},
   "outputs": [],
   "source": [
    "def indices_age(columnas, df): #Función para sacar los indices de la columna age usando sólo el Q1\n",
    "    \n",
    "    dicc={} \n",
    "    for col in columnas:\n",
    "        Q1=np.nanpercentile(df[col], 25)\n",
    "        Q3=np.nanpercentile(df[col], 75)\n",
    "        IQR=Q3-Q1\n",
    "        outliers_step=1.5*IQR\n",
    "        outliers_data=df[(df[col] < Q1-outliers_step)]\n",
    "        #Sacamos los indices\n",
    "        if outliers_data.shape[0] > 0: \n",
    "            dicc[col]=(list(outliers_data.index))\n",
    "    return dicc"
   ]
  },
  {
   "cell_type": "code",
   "execution_count": 13,
   "metadata": {},
   "outputs": [],
   "source": [
    "columna=[\"age\"]\n",
    "ind_age=indices_age(columna, df)"
   ]
  },
  {
   "cell_type": "code",
   "execution_count": 14,
   "metadata": {},
   "outputs": [],
   "source": [
    "for k, v in ind_age.items(): #aqui iteramos por esos indices y los cambiamos por la mediana de la columna age\n",
    "    media=df[k].median()\n",
    "    for i in v:\n",
    "        df.loc[i,k]=media"
   ]
  },
  {
   "cell_type": "code",
   "execution_count": 15,
   "metadata": {},
   "outputs": [
    {
     "data": {
      "image/png": "[encoded data removed]",
      "text/plain": [
       "<Figure size 1400x800 with 2 Axes>"
      ]
     },
     "metadata": {},
     "output_type": "display_data"
    }
   ],
   "source": [
    "fig, ax = plt.subplots(2,1, figsize=(14,8))\n",
    "for i in range(len(df_num.columns)):\n",
    "    sns.boxplot(x=df_num.columns[i], data=df_num, ax=ax[i])\n",
    "plt.show()"
   ]
  },
  {
   "cell_type": "markdown",
   "metadata": {},
   "source": [
    "Verificamos y listo nuestros outlayers se han cambiado modificando también nuestras estadisticas"
   ]
  },
  {
   "cell_type": "markdown",
   "metadata": {},
   "source": [
    "- EJERCICIO 5: Guarda el csv con las columnas limpias para seguir trabajando con este dataframe limpio en el siguiente pair programming de limpieza."
   ]
  },
  {
   "cell_type": "code",
   "execution_count": 16,
   "metadata": {},
   "outputs": [],
   "source": [
    "df.to_csv(\"../EDA/datos/attack_limpieza3.csv\")"
   ]
  }
 ],
 "metadata": {
  "kernelspec": {
   "display_name": "Python 3.9.7 ('base')",
   "language": "python",
   "name": "python3"
  },
  "language_info": {
   "codemirror_mode": {
    "name": "ipython",
    "version": 3
   },
   "file_extension": ".py",
   "mimetype": "text/x-python",
   "name": "python",
   "nbconvert_exporter": "python",
   "pygments_lexer": "ipython3",
   "version": "3.9.7"
  },
  "orig_nbformat": 4,
  "vscode": {
   "interpreter": {
    "hash": "c077ba4c986d0c674841b1bde68a642c04a6e440695030e9d779c08f2cbfb9f4"
   }
  }
 },
 "nbformat": 4,
 "nbformat_minor": 2
}
