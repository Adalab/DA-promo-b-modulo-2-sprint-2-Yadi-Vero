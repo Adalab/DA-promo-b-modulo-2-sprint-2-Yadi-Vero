{
 "cells": [
  {
   "cell_type": "code",
   "execution_count": 13,
   "metadata": {},
   "outputs": [],
   "source": [
    "import pandas as pd\n",
    "import numpy as np\n",
    "import sidetable\n",
    "import seaborn as sns\n",
    "import matplotlib.pyplot as plt"
   ]
  },
  {
   "cell_type": "markdown",
   "metadata": {},
   "source": [
    "De todo esto, nos damos cuenta que solo tenemos que limpiar algunas de las columnas, en concreto age, species, country, fatal, year, sex. Si reducimos esto a una tabla para saber que tenemos ya limpito y que no. **Actualizamos esta tabla ya que en el ejercicio de pair de Limpieza I ya dejamos algunas columnas limpitas:\n",
    "\n",
    "age | ❌ esta en formato string cuando debería ser integer y en algunos casos tenemos rangos de edad\n",
    "\n",
    "species | ❌ es un jaleo! Debemos unificar los nombres y reducir a las especies más importantes"
   ]
  },
  {
   "cell_type": "code",
   "execution_count": 3,
   "metadata": {},
   "outputs": [
    {
     "data": {
      "text/html": [
       "<div>\n",
       "<style scoped>\n",
       "    .dataframe tbody tr th:only-of-type {\n",
       "        vertical-align: middle;\n",
       "    }\n",
       "\n",
       "    .dataframe tbody tr th {\n",
       "        vertical-align: top;\n",
       "    }\n",
       "\n",
       "    .dataframe thead th {\n",
       "        text-align: right;\n",
       "    }\n",
       "</style>\n",
       "<table border=\"1\" class=\"dataframe\">\n",
       "  <thead>\n",
       "    <tr style=\"text-align: right;\">\n",
       "      <th></th>\n",
       "      <th>case_number</th>\n",
       "      <th>year</th>\n",
       "      <th>country</th>\n",
       "      <th>age</th>\n",
       "      <th>time</th>\n",
       "      <th>species_</th>\n",
       "      <th>mes</th>\n",
       "      <th>fatal_</th>\n",
       "      <th>sex2</th>\n",
       "      <th>cleaned_species</th>\n",
       "    </tr>\n",
       "  </thead>\n",
       "  <tbody>\n",
       "    <tr>\n",
       "      <th>1313</th>\n",
       "      <td>2009.03.17</td>\n",
       "      <td>2009</td>\n",
       "      <td>usa</td>\n",
       "      <td>61</td>\n",
       "      <td>20h00</td>\n",
       "      <td>Thought to involve a cookie cutter shark</td>\n",
       "      <td>Mar</td>\n",
       "      <td>n</td>\n",
       "      <td>M</td>\n",
       "      <td>Undefined</td>\n",
       "    </tr>\n",
       "    <tr>\n",
       "      <th>2796</th>\n",
       "      <td>1990.05.13</td>\n",
       "      <td>1990</td>\n",
       "      <td>south africa</td>\n",
       "      <td>27</td>\n",
       "      <td>NAN</td>\n",
       "      <td>6 m, 600-kg shark</td>\n",
       "      <td>May</td>\n",
       "      <td>n</td>\n",
       "      <td>NAN</td>\n",
       "      <td>Undefined</td>\n",
       "    </tr>\n",
       "  </tbody>\n",
       "</table>\n",
       "</div>"
      ],
      "text/plain": [
       "     case_number  year       country  age   time  \\\n",
       "1313  2009.03.17  2009           usa   61  20h00   \n",
       "2796  1990.05.13  1990  south africa   27    NAN   \n",
       "\n",
       "                                      species_  mes fatal_ sex2  \\\n",
       "1313  Thought to involve a cookie cutter shark  Mar      n    M   \n",
       "2796                         6 m, 600-kg shark  May      n  NAN   \n",
       "\n",
       "     cleaned_species  \n",
       "1313       Undefined  \n",
       "2796       Undefined  "
      ]
     },
     "execution_count": 3,
     "metadata": {},
     "output_type": "execute_result"
    }
   ],
   "source": [
    "df=pd.read_csv('../EDA/datos/attack_limpio.csv', index_col=0)\n",
    "df.sample(2)"
   ]
  },
  {
   "cell_type": "markdown",
   "metadata": {},
   "source": [
    "Por lo tanto, en este ejercicio tendremos que limpiar los outliers.\n",
    "- EJERCICIO 1: ¿Sobre qué columnas podremos eliminar o reemplazar los outliers?"
   ]
  },
  {
   "cell_type": "code",
   "execution_count": 5,
   "metadata": {},
   "outputs": [
    {
     "data": {
      "text/html": [
       "<div>\n",
       "<style scoped>\n",
       "    .dataframe tbody tr th:only-of-type {\n",
       "        vertical-align: middle;\n",
       "    }\n",
       "\n",
       "    .dataframe tbody tr th {\n",
       "        vertical-align: top;\n",
       "    }\n",
       "\n",
       "    .dataframe thead th {\n",
       "        text-align: right;\n",
       "    }\n",
       "</style>\n",
       "<table border=\"1\" class=\"dataframe\">\n",
       "  <thead>\n",
       "    <tr style=\"text-align: right;\">\n",
       "      <th></th>\n",
       "      <th>year</th>\n",
       "      <th>age</th>\n",
       "    </tr>\n",
       "  </thead>\n",
       "  <tbody>\n",
       "    <tr>\n",
       "      <th>3696</th>\n",
       "      <td>1967</td>\n",
       "      <td>27</td>\n",
       "    </tr>\n",
       "    <tr>\n",
       "      <th>446</th>\n",
       "      <td>2016</td>\n",
       "      <td>48</td>\n",
       "    </tr>\n",
       "  </tbody>\n",
       "</table>\n",
       "</div>"
      ],
      "text/plain": [
       "      year  age\n",
       "3696  1967   27\n",
       "446   2016   48"
      ]
     },
     "execution_count": 5,
     "metadata": {},
     "output_type": "execute_result"
    }
   ],
   "source": [
    "df_num=df.select_dtypes(include=np.number)\n",
    "df_num.sample(2)"
   ]
  },
  {
   "cell_type": "markdown",
   "metadata": {},
   "source": [
    "- EJERCICIO 2: Identifica visualmente los outliers"
   ]
  },
  {
   "cell_type": "code",
   "execution_count": 22,
   "metadata": {},
   "outputs": [
    {
     "data": {
      "image/png": "[encoded data removed]",
      "text/plain": [
       "<Figure size 1400x800 with 2 Axes>"
      ]
     },
     "metadata": {},
     "output_type": "display_data"
    }
   ],
   "source": [
    "fig, ax = plt.subplots(2,1, figsize=(14,8))\n",
    "for i in range(len(df_num.columns)):\n",
    "    sns.boxplot(x=df_num.columns[i], data=df_num, ax=ax[i])\n",
    "plt.show()"
   ]
  },
  {
   "cell_type": "code",
   "execution_count": 23,
   "metadata": {},
   "outputs": [
    {
     "data": {
      "text/plain": [
       "year    0\n",
       "age     0\n",
       "dtype: int64"
      ]
     },
     "execution_count": 23,
     "metadata": {},
     "output_type": "execute_result"
    }
   ],
   "source": [
    "df_num.isnull().sum()"
   ]
  },
  {
   "cell_type": "markdown",
   "metadata": {},
   "source": [
    "- EJERCICIO 3: Identifica sobre el dataframe las filas que son outliers"
   ]
  },
  {
   "cell_type": "code",
   "execution_count": 52,
   "metadata": {},
   "outputs": [],
   "source": [
    "q1_year=np.percentile(df[\"year\"],25)\n",
    "q3_year=np.percentile(df[\"year\"],75)\n",
    "iqr_year=q3_year-q1_year\n",
    "outlier_step=1.5 * iqr_year\n",
    "outliers_year=df[(df[\"year\"]< q1_year - outlier_step) | (df[\"year\"]> q3_year + outlier_step)]"
   ]
  },
  {
   "cell_type": "code",
   "execution_count": 53,
   "metadata": {},
   "outputs": [
    {
     "data": {
      "text/html": [
       "<div>\n",
       "<style scoped>\n",
       "    .dataframe tbody tr th:only-of-type {\n",
       "        vertical-align: middle;\n",
       "    }\n",
       "\n",
       "    .dataframe tbody tr th {\n",
       "        vertical-align: top;\n",
       "    }\n",
       "\n",
       "    .dataframe thead th {\n",
       "        text-align: right;\n",
       "    }\n",
       "</style>\n",
       "<table border=\"1\" class=\"dataframe\">\n",
       "  <thead>\n",
       "    <tr style=\"text-align: right;\">\n",
       "      <th></th>\n",
       "      <th>case_number</th>\n",
       "      <th>year</th>\n",
       "      <th>country</th>\n",
       "      <th>age</th>\n",
       "      <th>time</th>\n",
       "      <th>species_</th>\n",
       "      <th>mes</th>\n",
       "      <th>fatal_</th>\n",
       "      <th>sex2</th>\n",
       "      <th>cleaned_species</th>\n",
       "    </tr>\n",
       "  </thead>\n",
       "  <tbody>\n",
       "    <tr>\n",
       "      <th>153</th>\n",
       "      <td>ND.0017</td>\n",
       "      <td>0</td>\n",
       "      <td>south africa</td>\n",
       "      <td>27</td>\n",
       "      <td>NAN</td>\n",
       "      <td>NAN</td>\n",
       "      <td>NAN</td>\n",
       "      <td>y</td>\n",
       "      <td>M</td>\n",
       "      <td>Undefined</td>\n",
       "    </tr>\n",
       "    <tr>\n",
       "      <th>35</th>\n",
       "      <td>1617.00.00.R</td>\n",
       "      <td>1617</td>\n",
       "      <td>india</td>\n",
       "      <td>27</td>\n",
       "      <td>NAN</td>\n",
       "      <td>NAN</td>\n",
       "      <td>NAN</td>\n",
       "      <td>NAN</td>\n",
       "      <td>NAN</td>\n",
       "      <td>Undefined</td>\n",
       "    </tr>\n",
       "    <tr>\n",
       "      <th>87</th>\n",
       "      <td>ND.0095</td>\n",
       "      <td>0</td>\n",
       "      <td>solomon islands</td>\n",
       "      <td>27</td>\n",
       "      <td>NAN</td>\n",
       "      <td>NAN</td>\n",
       "      <td>Feb</td>\n",
       "      <td>n</td>\n",
       "      <td>M</td>\n",
       "      <td>Undefined</td>\n",
       "    </tr>\n",
       "    <tr>\n",
       "      <th>59</th>\n",
       "      <td>ND-0136</td>\n",
       "      <td>0</td>\n",
       "      <td>usa</td>\n",
       "      <td>27</td>\n",
       "      <td>NAN</td>\n",
       "      <td>Galapagos shark, 6'</td>\n",
       "      <td>NAN</td>\n",
       "      <td>n</td>\n",
       "      <td>M</td>\n",
       "      <td>Undefined</td>\n",
       "    </tr>\n",
       "    <tr>\n",
       "      <th>6194</th>\n",
       "      <td>1847.07.19</td>\n",
       "      <td>1847</td>\n",
       "      <td>greece</td>\n",
       "      <td>19</td>\n",
       "      <td>NAN</td>\n",
       "      <td>NAN</td>\n",
       "      <td>Jul</td>\n",
       "      <td>y</td>\n",
       "      <td>M</td>\n",
       "      <td>Undefined</td>\n",
       "    </tr>\n",
       "  </tbody>\n",
       "</table>\n",
       "</div>"
      ],
      "text/plain": [
       "       case_number  year          country  age time              species_  \\\n",
       "153        ND.0017     0     south africa   27  NAN                   NAN   \n",
       "35    1617.00.00.R  1617            india   27  NAN                   NAN   \n",
       "87         ND.0095     0  solomon islands   27  NAN                   NAN   \n",
       "59         ND-0136     0              usa   27  NAN   Galapagos shark, 6'   \n",
       "6194    1847.07.19  1847           greece   19  NAN                   NAN   \n",
       "\n",
       "      mes fatal_ sex2 cleaned_species  \n",
       "153   NAN      y    M       Undefined  \n",
       "35    NAN    NAN  NAN       Undefined  \n",
       "87    Feb      n    M       Undefined  \n",
       "59    NAN      n    M       Undefined  \n",
       "6194  Jul      y    M       Undefined  "
      ]
     },
     "execution_count": 53,
     "metadata": {},
     "output_type": "execute_result"
    }
   ],
   "source": [
    "outliers_year.sample(5)"
   ]
  },
  {
   "cell_type": "code",
   "execution_count": 49,
   "metadata": {},
   "outputs": [
    {
     "data": {
      "text/html": [
       "<div>\n",
       "<style scoped>\n",
       "    .dataframe tbody tr th:only-of-type {\n",
       "        vertical-align: middle;\n",
       "    }\n",
       "\n",
       "    .dataframe tbody tr th {\n",
       "        vertical-align: top;\n",
       "    }\n",
       "\n",
       "    .dataframe thead th {\n",
       "        text-align: right;\n",
       "    }\n",
       "</style>\n",
       "<table border=\"1\" class=\"dataframe\">\n",
       "  <thead>\n",
       "    <tr style=\"text-align: right;\">\n",
       "      <th></th>\n",
       "      <th>case_number</th>\n",
       "      <th>year</th>\n",
       "      <th>country</th>\n",
       "      <th>age</th>\n",
       "      <th>time</th>\n",
       "      <th>species_</th>\n",
       "      <th>mes</th>\n",
       "      <th>fatal_</th>\n",
       "      <th>sex2</th>\n",
       "      <th>cleaned_species</th>\n",
       "    </tr>\n",
       "  </thead>\n",
       "  <tbody>\n",
       "    <tr>\n",
       "      <th>3843</th>\n",
       "      <td>1964.05.30</td>\n",
       "      <td>1964</td>\n",
       "      <td>panama</td>\n",
       "      <td>47</td>\n",
       "      <td>NAN</td>\n",
       "      <td>Lemon shark</td>\n",
       "      <td>May</td>\n",
       "      <td>n</td>\n",
       "      <td>M</td>\n",
       "      <td>Lemon</td>\n",
       "    </tr>\n",
       "    <tr>\n",
       "      <th>262</th>\n",
       "      <td>2017.09.03.a</td>\n",
       "      <td>2017</td>\n",
       "      <td>japan</td>\n",
       "      <td>42</td>\n",
       "      <td>10h00</td>\n",
       "      <td>NAN</td>\n",
       "      <td>Sep</td>\n",
       "      <td>n</td>\n",
       "      <td>M</td>\n",
       "      <td>Undefined</td>\n",
       "    </tr>\n",
       "    <tr>\n",
       "      <th>1726</th>\n",
       "      <td>2005.08.06</td>\n",
       "      <td>2005</td>\n",
       "      <td>usa</td>\n",
       "      <td>14</td>\n",
       "      <td>09h45</td>\n",
       "      <td>NAN</td>\n",
       "      <td>Aug</td>\n",
       "      <td>n</td>\n",
       "      <td>M</td>\n",
       "      <td>Undefined</td>\n",
       "    </tr>\n",
       "    <tr>\n",
       "      <th>1536</th>\n",
       "      <td>2007.06.17</td>\n",
       "      <td>2007</td>\n",
       "      <td>usa</td>\n",
       "      <td>9</td>\n",
       "      <td>16h30</td>\n",
       "      <td>Shark involvement not confirmed</td>\n",
       "      <td>Jun</td>\n",
       "      <td>NAN</td>\n",
       "      <td>F</td>\n",
       "      <td>Undefined</td>\n",
       "    </tr>\n",
       "    <tr>\n",
       "      <th>3388</th>\n",
       "      <td>1975.05.20</td>\n",
       "      <td>1975</td>\n",
       "      <td>usa</td>\n",
       "      <td>10</td>\n",
       "      <td>NAN</td>\n",
       "      <td>NAN</td>\n",
       "      <td>NAN</td>\n",
       "      <td>n</td>\n",
       "      <td>F</td>\n",
       "      <td>Undefined</td>\n",
       "    </tr>\n",
       "  </tbody>\n",
       "</table>\n",
       "</div>"
      ],
      "text/plain": [
       "       case_number  year country  age   time                         species_  \\\n",
       "3843    1964.05.30  1964  panama   47    NAN                     Lemon shark    \n",
       "262   2017.09.03.a  2017   japan   42  10h00                              NAN   \n",
       "1726    2005.08.06  2005     usa   14  09h45                              NAN   \n",
       "1536    2007.06.17  2007     usa    9  16h30  Shark involvement not confirmed   \n",
       "3388    1975.05.20  1975     usa   10    NAN                              NAN   \n",
       "\n",
       "      mes fatal_ sex2 cleaned_species  \n",
       "3843  May      n    M           Lemon  \n",
       "262   Sep      n    M       Undefined  \n",
       "1726  Aug      n    M       Undefined  \n",
       "1536  Jun    NAN    F       Undefined  \n",
       "3388  NAN      n    F       Undefined  "
      ]
     },
     "execution_count": 49,
     "metadata": {},
     "output_type": "execute_result"
    }
   ],
   "source": [
    "q1_age=np.percentile(df[\"age\"],25)\n",
    "q3_age=np.percentile(df[\"age\"],75)\n",
    "iqr_age=q3_age-q1_age\n",
    "outlier_age_step=1.5 * iqr_age\n",
    "outliers_age=df[(df[\"age\"]< q1_age - outlier_age_step) | (df[\"age\"]> q3_age + outlier_age_step)]\n",
    "outliers_age.sample(5)"
   ]
  },
  {
   "cell_type": "markdown",
   "metadata": {},
   "source": [
    "- EJERCICIO 4: Reemplaza los outliers por el estadístico más correcto."
   ]
  },
  {
   "cell_type": "code",
   "execution_count": null,
   "metadata": {},
   "outputs": [],
   "source": []
  },
  {
   "cell_type": "markdown",
   "metadata": {},
   "source": [
    "- EJERCICIO 5: Guarda el csv con las columnas limpias para seguir trabajando con este dataframe limpio en el siguiente pair programming de limpieza."
   ]
  },
  {
   "cell_type": "code",
   "execution_count": null,
   "metadata": {},
   "outputs": [],
   "source": []
  }
 ],
 "metadata": {
  "kernelspec": {
   "display_name": "Python 3.9.7 ('base')",
   "language": "python",
   "name": "python3"
  },
  "language_info": {
   "codemirror_mode": {
    "name": "ipython",
    "version": 3
   },
   "file_extension": ".py",
   "mimetype": "text/x-python",
   "name": "python",
   "nbconvert_exporter": "python",
   "pygments_lexer": "ipython3",
   "version": "3.9.7"
  },
  "orig_nbformat": 4,
  "vscode": {
   "interpreter": {
    "hash": "c077ba4c986d0c674841b1bde68a642c04a6e440695030e9d779c08f2cbfb9f4"
   }
  }
 },
 "nbformat": 4,
 "nbformat_minor": 2
}
