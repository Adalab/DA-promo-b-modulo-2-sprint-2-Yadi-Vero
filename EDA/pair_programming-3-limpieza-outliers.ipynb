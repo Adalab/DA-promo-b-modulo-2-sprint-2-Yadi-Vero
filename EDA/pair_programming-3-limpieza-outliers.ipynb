{
 "cells": [
  {
   "cell_type": "code",
   "execution_count": 10,
   "metadata": {},
   "outputs": [],
   "source": [
    "import pandas as pd\n",
    "import numpy as np\n",
    "import seaborn as sns\n",
    "import matplotlib.pyplot as plt\n",
    "import warnings\n",
    "import sidetable\n",
    "warnings.filterwarnings('ignore') # Vamos a prevenir errores xD"
   ]
  },
  {
   "cell_type": "markdown",
   "metadata": {},
   "source": [
    "## Objetivos\n",
    "\n",
    "- En el ejercicio de hoy tendremos que contestar a las siguientes preguntas:\n",
    "\n",
    "- 📌 Nota Como siempre, después de cada gráfica incluid una pequeña explicación de lo que nos está mostrando la gráfica.\n",
    "\n",
    "EJERCICIO 1: Estableced el tamaño de las figuras al inicio de vuestro jupyter para que todas tengan las mismas dimensiones."
   ]
  },
  {
   "cell_type": "code",
   "execution_count": 11,
   "metadata": {},
   "outputs": [],
   "source": [
    "# Establecemos el tamaños de nuestras figuras\n",
    "plt.rcParams[\"figure.figsize\"] = (6,8)"
   ]
  },
  {
   "cell_type": "code",
   "execution_count": 12,
   "metadata": {},
   "outputs": [
    {
     "data": {
      "text/html": [
       "<div>\n",
       "<style scoped>\n",
       "    .dataframe tbody tr th:only-of-type {\n",
       "        vertical-align: middle;\n",
       "    }\n",
       "\n",
       "    .dataframe tbody tr th {\n",
       "        vertical-align: top;\n",
       "    }\n",
       "\n",
       "    .dataframe thead th {\n",
       "        text-align: right;\n",
       "    }\n",
       "</style>\n",
       "<table border=\"1\" class=\"dataframe\">\n",
       "  <thead>\n",
       "    <tr style=\"text-align: right;\">\n",
       "      <th></th>\n",
       "      <th>case_number</th>\n",
       "      <th>year</th>\n",
       "      <th>country</th>\n",
       "      <th>age</th>\n",
       "      <th>time</th>\n",
       "      <th>species_</th>\n",
       "      <th>mes</th>\n",
       "      <th>fatal_</th>\n",
       "      <th>sex2</th>\n",
       "      <th>cleaned_species</th>\n",
       "    </tr>\n",
       "  </thead>\n",
       "  <tbody>\n",
       "    <tr>\n",
       "      <th>0</th>\n",
       "      <td>1800.00.00</td>\n",
       "      <td>1800</td>\n",
       "      <td>seychelles</td>\n",
       "      <td>27</td>\n",
       "      <td>NAN</td>\n",
       "      <td>NAN</td>\n",
       "      <td>NAN</td>\n",
       "      <td>y</td>\n",
       "      <td>F</td>\n",
       "      <td>Undefined</td>\n",
       "    </tr>\n",
       "    <tr>\n",
       "      <th>1</th>\n",
       "      <td>1797.05.28.R</td>\n",
       "      <td>1797</td>\n",
       "      <td>NAN</td>\n",
       "      <td>27</td>\n",
       "      <td>NAN</td>\n",
       "      <td>NAN</td>\n",
       "      <td>May</td>\n",
       "      <td>y</td>\n",
       "      <td>NAN</td>\n",
       "      <td>Undefined</td>\n",
       "    </tr>\n",
       "  </tbody>\n",
       "</table>\n",
       "</div>"
      ],
      "text/plain": [
       "    case_number  year     country  age time species_  mes fatal_ sex2  \\\n",
       "0    1800.00.00  1800  seychelles   27  NAN      NAN  NAN      y    F   \n",
       "1  1797.05.28.R  1797         NAN   27  NAN      NAN  May      y  NAN   \n",
       "\n",
       "  cleaned_species  \n",
       "0       Undefined  \n",
       "1       Undefined  "
      ]
     },
     "execution_count": 12,
     "metadata": {},
     "output_type": "execute_result"
    }
   ],
   "source": [
    "df=pd.read_csv('../EDA/datos/attack_limpio.csv', index_col=0)\n",
    "df.head(2)"
   ]
  },
  {
   "cell_type": "markdown",
   "metadata": {},
   "source": [
    "EJERCICIO 2: Manos a la obra con los plots, estos irán muy dirigidos hacia las preguntas que queremos contestar, para hacer una primera aproximación a nuestras hipótesis:"
   ]
  },
  {
   "cell_type": "markdown",
   "metadata": {},
   "source": [
    "- ¿Cuántos ataques hubo por pais? ¿Se puede ver algo claro si ploteamos todos los paises? En caso de que no, seleccionad solo los 10 paises con más ataques y volved a hacer el plot."
   ]
  },
  {
   "cell_type": "code",
   "execution_count": 36,
   "metadata": {},
   "outputs": [
    {
     "data": {
      "text/plain": [
       "array(['usa', 'australia', 'south africa', 'papua new guinea',\n",
       "       'new zealand', 'brazil', 'bahamas', 'mexico', 'italy', 'fiji',\n",
       "       'philippines'], dtype=object)"
      ]
     },
     "execution_count": 36,
     "metadata": {},
     "output_type": "execute_result"
    }
   ],
   "source": [
    "unicos= df.stb.freq([\"country\"])\n",
    "unicos=unicos[:11]\n",
    "unicos=unicos[\"country\"].unique()\n",
    "unicos"
   ]
  },
  {
   "cell_type": "code",
   "execution_count": 42,
   "metadata": {},
   "outputs": [
    {
     "ename": "ValueError",
     "evalue": "Unable to coerce list of <class 'pandas.core.series.Series'> to Series/DataFrame",
     "output_type": "error",
     "traceback": [
      "\u001b[0;31m---------------------------------------------------------------------------\u001b[0m",
      "\u001b[0;31mValueError\u001b[0m                                Traceback (most recent call last)",
      "\u001b[1;32m/home/yadi/Documentos/adalab/modulo 2/DA-promo-b-modulo-2-sprint-2-Yadi-Vero/EDA/pair_programming-3-limpieza-outliers.ipynb Celda 8\u001b[0m in \u001b[0;36m<cell line: 1>\u001b[0;34m()\u001b[0m\n\u001b[0;32m----> <a href='vscode-notebook-cell:/home/yadi/Documentos/adalab/modulo%202/DA-promo-b-modulo-2-sprint-2-Yadi-Vero/EDA/pair_programming-3-limpieza-outliers.ipynb#X20sZmlsZQ%3D%3D?line=0'>1</a>\u001b[0m paises\u001b[39m=\u001b[39mdf[df[\u001b[39m\"\u001b[39;49m\u001b[39mcountry\u001b[39;49m\u001b[39m\"\u001b[39;49m]\u001b[39m==\u001b[39;49m\u001b[39m\"\u001b[39;49m\u001b[39maustralia\u001b[39;49m\u001b[39m\"\u001b[39;49m] \u001b[39m&\u001b[39;49m [df[\u001b[39m\"\u001b[39;49m\u001b[39mcountry\u001b[39;49m\u001b[39m\"\u001b[39;49m]\u001b[39m==\u001b[39;49m\u001b[39m\"\u001b[39;49m\u001b[39maustralia\u001b[39;49m\u001b[39m\"\u001b[39;49m]\n",
      "File \u001b[0;32m~/anaconda3/lib/python3.9/site-packages/pandas/core/ops/common.py:70\u001b[0m, in \u001b[0;36m_unpack_zerodim_and_defer.<locals>.new_method\u001b[0;34m(self, other)\u001b[0m\n\u001b[1;32m     66\u001b[0m             \u001b[39mreturn\u001b[39;00m \u001b[39mNotImplemented\u001b[39m\n\u001b[1;32m     68\u001b[0m other \u001b[39m=\u001b[39m item_from_zerodim(other)\n\u001b[0;32m---> 70\u001b[0m \u001b[39mreturn\u001b[39;00m method(\u001b[39mself\u001b[39;49m, other)\n",
      "File \u001b[0;32m~/anaconda3/lib/python3.9/site-packages/pandas/core/arraylike.py:70\u001b[0m, in \u001b[0;36mOpsMixin.__and__\u001b[0;34m(self, other)\u001b[0m\n\u001b[1;32m     68\u001b[0m \u001b[39m@unpack_zerodim_and_defer\u001b[39m(\u001b[39m\"\u001b[39m\u001b[39m__and__\u001b[39m\u001b[39m\"\u001b[39m)\n\u001b[1;32m     69\u001b[0m \u001b[39mdef\u001b[39;00m \u001b[39m__and__\u001b[39m(\u001b[39mself\u001b[39m, other):\n\u001b[0;32m---> 70\u001b[0m     \u001b[39mreturn\u001b[39;00m \u001b[39mself\u001b[39;49m\u001b[39m.\u001b[39;49m_logical_method(other, operator\u001b[39m.\u001b[39;49mand_)\n",
      "File \u001b[0;32m~/anaconda3/lib/python3.9/site-packages/pandas/core/frame.py:6950\u001b[0m, in \u001b[0;36mDataFrame._arith_method\u001b[0;34m(self, other, op)\u001b[0m\n\u001b[1;32m   6947\u001b[0m axis \u001b[39m=\u001b[39m \u001b[39m1\u001b[39m  \u001b[39m# only relevant for Series other case\u001b[39;00m\n\u001b[1;32m   6948\u001b[0m other \u001b[39m=\u001b[39m ops\u001b[39m.\u001b[39mmaybe_prepare_scalar_for_op(other, (\u001b[39mself\u001b[39m\u001b[39m.\u001b[39mshape[axis],))\n\u001b[0;32m-> 6950\u001b[0m \u001b[39mself\u001b[39m, other \u001b[39m=\u001b[39m ops\u001b[39m.\u001b[39;49malign_method_FRAME(\u001b[39mself\u001b[39;49m, other, axis, flex\u001b[39m=\u001b[39;49m\u001b[39mTrue\u001b[39;49;00m, level\u001b[39m=\u001b[39;49m\u001b[39mNone\u001b[39;49;00m)\n\u001b[1;32m   6952\u001b[0m new_data \u001b[39m=\u001b[39m \u001b[39mself\u001b[39m\u001b[39m.\u001b[39m_dispatch_frame_op(other, op, axis\u001b[39m=\u001b[39maxis)\n\u001b[1;32m   6953\u001b[0m \u001b[39mreturn\u001b[39;00m \u001b[39mself\u001b[39m\u001b[39m.\u001b[39m_construct_result(new_data)\n",
      "File \u001b[0;32m~/anaconda3/lib/python3.9/site-packages/pandas/core/ops/__init__.py:278\u001b[0m, in \u001b[0;36malign_method_FRAME\u001b[0;34m(left, right, axis, flex, level)\u001b[0m\n\u001b[1;32m    275\u001b[0m \u001b[39melif\u001b[39;00m is_list_like(right) \u001b[39mand\u001b[39;00m \u001b[39mnot\u001b[39;00m \u001b[39misinstance\u001b[39m(right, (ABCSeries, ABCDataFrame)):\n\u001b[1;32m    276\u001b[0m     \u001b[39m# GH 36702. Raise when attempting arithmetic with list of array-like.\u001b[39;00m\n\u001b[1;32m    277\u001b[0m     \u001b[39mif\u001b[39;00m \u001b[39many\u001b[39m(is_array_like(el) \u001b[39mfor\u001b[39;00m el \u001b[39min\u001b[39;00m right):\n\u001b[0;32m--> 278\u001b[0m         \u001b[39mraise\u001b[39;00m \u001b[39mValueError\u001b[39;00m(\n\u001b[1;32m    279\u001b[0m             \u001b[39mf\u001b[39m\u001b[39m\"\u001b[39m\u001b[39mUnable to coerce list of \u001b[39m\u001b[39m{\u001b[39;00m\u001b[39mtype\u001b[39m(right[\u001b[39m0\u001b[39m])\u001b[39m}\u001b[39;00m\u001b[39m to Series/DataFrame\u001b[39m\u001b[39m\"\u001b[39m\n\u001b[1;32m    280\u001b[0m         )\n\u001b[1;32m    281\u001b[0m     \u001b[39m# GH17901\u001b[39;00m\n\u001b[1;32m    282\u001b[0m     right \u001b[39m=\u001b[39m to_series(right)\n",
      "\u001b[0;31mValueError\u001b[0m: Unable to coerce list of <class 'pandas.core.series.Series'> to Series/DataFrame"
     ]
    }
   ],
   "source": [
    "paises=df[df[\"country\"]==\"australia\"] & df[df[\"country\"]==\"australia\"]# |\\\n",
    "    #df[df[\"country\"]==\"south africa\"] | df[df[\"country\"]==\"papua new guinea\"] |\\\n",
    "    #    df[df[\"country\"]==\"new zealand\"] | df[df[\"country\"]==\"brazil\"] |\\\n",
    "    #        df[df[\"country\"]==\"bahamas\"] | df[df[\"country\"]==\"mexico\"] |\\\n",
    "     #           df[df[\"country\"]==\"italy\"] | df[df[\"country\"]==\"fiji\"] | df[df[\"country\"]==\"philippines\"]"
   ]
  },
  {
   "cell_type": "code",
   "execution_count": 31,
   "metadata": {},
   "outputs": [
    {
     "data": {
      "text/html": [
       "<div>\n",
       "<style scoped>\n",
       "    .dataframe tbody tr th:only-of-type {\n",
       "        vertical-align: middle;\n",
       "    }\n",
       "\n",
       "    .dataframe tbody tr th {\n",
       "        vertical-align: top;\n",
       "    }\n",
       "\n",
       "    .dataframe thead th {\n",
       "        text-align: right;\n",
       "    }\n",
       "</style>\n",
       "<table border=\"1\" class=\"dataframe\">\n",
       "  <thead>\n",
       "    <tr style=\"text-align: right;\">\n",
       "      <th></th>\n",
       "      <th>case_number</th>\n",
       "      <th>year</th>\n",
       "      <th>country</th>\n",
       "      <th>age</th>\n",
       "      <th>time</th>\n",
       "      <th>species_</th>\n",
       "      <th>mes</th>\n",
       "      <th>fatal_</th>\n",
       "      <th>sex2</th>\n",
       "      <th>cleaned_species</th>\n",
       "    </tr>\n",
       "  </thead>\n",
       "  <tbody>\n",
       "    <tr>\n",
       "      <th>10</th>\n",
       "      <td>1780.08.08</td>\n",
       "      <td>1780</td>\n",
       "      <td>usa</td>\n",
       "      <td>27</td>\n",
       "      <td>NAN</td>\n",
       "      <td>NAN</td>\n",
       "      <td>Aug</td>\n",
       "      <td>y</td>\n",
       "      <td>M</td>\n",
       "      <td>Undefined</td>\n",
       "    </tr>\n",
       "    <tr>\n",
       "      <th>11</th>\n",
       "      <td>1779.00.00</td>\n",
       "      <td>1779</td>\n",
       "      <td>usa</td>\n",
       "      <td>27</td>\n",
       "      <td>NAN</td>\n",
       "      <td>NAN</td>\n",
       "      <td>NAN</td>\n",
       "      <td>y</td>\n",
       "      <td>M</td>\n",
       "      <td>Undefined</td>\n",
       "    </tr>\n",
       "    <tr>\n",
       "      <th>14</th>\n",
       "      <td>1771.07.12.R</td>\n",
       "      <td>1771</td>\n",
       "      <td>usa</td>\n",
       "      <td>27</td>\n",
       "      <td>NAN</td>\n",
       "      <td>NAN</td>\n",
       "      <td>Jul</td>\n",
       "      <td>y</td>\n",
       "      <td>M</td>\n",
       "      <td>Undefined</td>\n",
       "    </tr>\n",
       "    <tr>\n",
       "      <th>19</th>\n",
       "      <td>1751.07.27</td>\n",
       "      <td>1751</td>\n",
       "      <td>usa</td>\n",
       "      <td>27</td>\n",
       "      <td>NAN</td>\n",
       "      <td>NAN</td>\n",
       "      <td>Jul</td>\n",
       "      <td>y</td>\n",
       "      <td>M</td>\n",
       "      <td>Undefined</td>\n",
       "    </tr>\n",
       "    <tr>\n",
       "      <th>36</th>\n",
       "      <td>1642.00.00</td>\n",
       "      <td>1642</td>\n",
       "      <td>usa</td>\n",
       "      <td>27</td>\n",
       "      <td>NAN</td>\n",
       "      <td>NAN</td>\n",
       "      <td>NAN</td>\n",
       "      <td>y</td>\n",
       "      <td>M</td>\n",
       "      <td>Undefined</td>\n",
       "    </tr>\n",
       "    <tr>\n",
       "      <th>...</th>\n",
       "      <td>...</td>\n",
       "      <td>...</td>\n",
       "      <td>...</td>\n",
       "      <td>...</td>\n",
       "      <td>...</td>\n",
       "      <td>...</td>\n",
       "      <td>...</td>\n",
       "      <td>...</td>\n",
       "      <td>...</td>\n",
       "      <td>...</td>\n",
       "    </tr>\n",
       "    <tr>\n",
       "      <th>6268</th>\n",
       "      <td>1816.09.03.R</td>\n",
       "      <td>1816</td>\n",
       "      <td>usa</td>\n",
       "      <td>27</td>\n",
       "      <td>NAN</td>\n",
       "      <td>NAN</td>\n",
       "      <td>NAN</td>\n",
       "      <td>y</td>\n",
       "      <td>M</td>\n",
       "      <td>Undefined</td>\n",
       "    </tr>\n",
       "    <tr>\n",
       "      <th>6272</th>\n",
       "      <td>1810.09.15</td>\n",
       "      <td>1810</td>\n",
       "      <td>usa</td>\n",
       "      <td>27</td>\n",
       "      <td>NAN</td>\n",
       "      <td>NAN</td>\n",
       "      <td>Sep</td>\n",
       "      <td>y</td>\n",
       "      <td>M</td>\n",
       "      <td>Undefined</td>\n",
       "    </tr>\n",
       "    <tr>\n",
       "      <th>6277</th>\n",
       "      <td>1806.04.24</td>\n",
       "      <td>1896</td>\n",
       "      <td>usa</td>\n",
       "      <td>27</td>\n",
       "      <td>NAN</td>\n",
       "      <td>NAN</td>\n",
       "      <td>Aug</td>\n",
       "      <td>NAN</td>\n",
       "      <td>M</td>\n",
       "      <td>Undefined</td>\n",
       "    </tr>\n",
       "    <tr>\n",
       "      <th>6278</th>\n",
       "      <td>1805.09.00</td>\n",
       "      <td>1805</td>\n",
       "      <td>usa</td>\n",
       "      <td>27</td>\n",
       "      <td>NAN</td>\n",
       "      <td>Shark involvement prior to death unconfirmed</td>\n",
       "      <td>Sep</td>\n",
       "      <td>NAN</td>\n",
       "      <td>M</td>\n",
       "      <td>Undefined</td>\n",
       "    </tr>\n",
       "    <tr>\n",
       "      <th>6280</th>\n",
       "      <td>1803.05.17</td>\n",
       "      <td>1803</td>\n",
       "      <td>usa</td>\n",
       "      <td>27</td>\n",
       "      <td>NAN</td>\n",
       "      <td>NAN</td>\n",
       "      <td>May</td>\n",
       "      <td>n</td>\n",
       "      <td>M</td>\n",
       "      <td>Undefined</td>\n",
       "    </tr>\n",
       "  </tbody>\n",
       "</table>\n",
       "<p>2232 rows × 10 columns</p>\n",
       "</div>"
      ],
      "text/plain": [
       "       case_number  year country  age time  \\\n",
       "10      1780.08.08  1780     usa   27  NAN   \n",
       "11      1779.00.00  1779     usa   27  NAN   \n",
       "14    1771.07.12.R  1771     usa   27  NAN   \n",
       "19      1751.07.27  1751     usa   27  NAN   \n",
       "36      1642.00.00  1642     usa   27  NAN   \n",
       "...            ...   ...     ...  ...  ...   \n",
       "6268  1816.09.03.R  1816     usa   27  NAN   \n",
       "6272    1810.09.15  1810     usa   27  NAN   \n",
       "6277    1806.04.24  1896     usa   27  NAN   \n",
       "6278    1805.09.00  1805     usa   27  NAN   \n",
       "6280    1803.05.17  1803     usa   27  NAN   \n",
       "\n",
       "                                          species_  mes fatal_ sex2  \\\n",
       "10                                             NAN  Aug      y    M   \n",
       "11                                             NAN  NAN      y    M   \n",
       "14                                             NAN  Jul      y    M   \n",
       "19                                             NAN  Jul      y    M   \n",
       "36                                             NAN  NAN      y    M   \n",
       "...                                            ...  ...    ...  ...   \n",
       "6268                                           NAN  NAN      y    M   \n",
       "6272                                           NAN  Sep      y    M   \n",
       "6277                                           NAN  Aug    NAN    M   \n",
       "6278  Shark involvement prior to death unconfirmed  Sep    NAN    M   \n",
       "6280                                           NAN  May      n    M   \n",
       "\n",
       "     cleaned_species  \n",
       "10         Undefined  \n",
       "11         Undefined  \n",
       "14         Undefined  \n",
       "19         Undefined  \n",
       "36         Undefined  \n",
       "...              ...  \n",
       "6268       Undefined  \n",
       "6272       Undefined  \n",
       "6277       Undefined  \n",
       "6278       Undefined  \n",
       "6280       Undefined  \n",
       "\n",
       "[2232 rows x 10 columns]"
      ]
     },
     "execution_count": 31,
     "metadata": {},
     "output_type": "execute_result"
    }
   ],
   "source": [
    "paises"
   ]
  },
  {
   "cell_type": "code",
   "execution_count": 25,
   "metadata": {},
   "outputs": [
    {
     "data": {
      "image/png": "[encoded data removed]",
      "text/plain": [
       "<Figure size 600x800 with 1 Axes>"
      ]
     },
     "metadata": {},
     "output_type": "display_data"
    }
   ],
   "source": [
    "sns.countplot(\"count\", data = paises2, hue=\"country\"); \n",
    "plt.show(); "
   ]
  },
  {
   "cell_type": "markdown",
   "metadata": {},
   "source": [
    "- Usando el DataFrame de los 10 paises con más ataques, ¿hay diferencias entre sexos en esos paises?"
   ]
  },
  {
   "cell_type": "markdown",
   "metadata": {},
   "source": [
    "- ¿Qué edad recibe mayor número de ataques? 💡 Pista 💡 Para que esta gráfica nos salga legible tendremos que crear antes grupos de edad. Para hacer esto de una forma sencilla tenemos el método pd.cut() que aprendimos en la lección de Limpieza II."
   ]
  },
  {
   "cell_type": "markdown",
   "metadata": {},
   "source": [
    "- Ataques entre sexos, ¿hay diferencia?"
   ]
  },
  {
   "cell_type": "markdown",
   "metadata": {},
   "source": [
    "- ¿Cuando ocurren más ataques? ¿Os sale algo raro en la gráfica? Intentad limpiar un poco los datos para que os salga mejor."
   ]
  },
  {
   "cell_type": "markdown",
   "metadata": {},
   "source": [
    "Podríamos hacer más gráficas para seguir explorando nuestras hipótesis, pero tenemos el tiempo limitado 😢. Aún así, sentiros libres de explorar todo lo que queráis vuestros datos para entenderlos mejor 😉."
   ]
  }
 ],
 "metadata": {
  "kernelspec": {
   "display_name": "Python 3.9.7 ('base')",
   "language": "python",
   "name": "python3"
  },
  "language_info": {
   "codemirror_mode": {
    "name": "ipython",
    "version": 3
   },
   "file_extension": ".py",
   "mimetype": "text/x-python",
   "name": "python",
   "nbconvert_exporter": "python",
   "pygments_lexer": "ipython3",
   "version": "3.9.7"
  },
  "orig_nbformat": 4,
  "vscode": {
   "interpreter": {
    "hash": "c077ba4c986d0c674841b1bde68a642c04a6e440695030e9d779c08f2cbfb9f4"
   }
  }
 },
 "nbformat": 4,
 "nbformat_minor": 2
}
